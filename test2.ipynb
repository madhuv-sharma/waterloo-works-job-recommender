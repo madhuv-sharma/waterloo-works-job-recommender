{
 "cells": [
  {
   "cell_type": "code",
   "execution_count": 83,
   "metadata": {},
   "outputs": [],
   "source": [
    "from sentence_transformers import SentenceTransformer\n",
    "from bs4 import BeautifulSoup\n",
    "import datetime\n",
    "import torch\n",
    "import json\n",
    "import re\n",
    "device = \"cuda\" if torch.cuda.is_available() else \"cpu\""
   ]
  },
  {
   "cell_type": "code",
   "execution_count": 84,
   "metadata": {},
   "outputs": [],
   "source": [
    "with open(\"ww_data.json\") as f: data = json.load(f)"
   ]
  },
  {
   "cell_type": "code",
   "execution_count": 89,
   "metadata": {},
   "outputs": [],
   "source": [
    "app_date = datetime.datetime(2024, 9, 15)"
   ]
  },
  {
   "cell_type": "code",
   "execution_count": 90,
   "metadata": {},
   "outputs": [],
   "source": [
    "jobs = []\n",
    "divisions = []\n",
    "for key in data:\n",
    "    if (\n",
    "        key.startswith(\"coopJob_\") and \n",
    "        app_date < datetime.datetime.strptime(re.sub(\"\\s+\", \" \", data[key][\"pageData\"][\"Application Information\"][\"Application Deadline\"]), \"%B %d, %Y %I:%M %p\")\n",
    "    ): jobs.append(data[key])\n",
    "    elif key.startswith(\"division_\"): divisions.append(data[key])"
   ]
  },
  {
   "cell_type": "code",
   "execution_count": 52,
   "metadata": {},
   "outputs": [],
   "source": [
    "job_descriptions = [\n",
    "    re.sub(\n",
    "        r\"\\n\\n+\",\n",
    "        \"\\n\",\n",
    "        BeautifulSoup(\n",
    "            f\"\\\n",
    "Job Title: {job['pageData']['Job Posting Information']['Job Title']}\\n\\\n",
    "Job Summary: {job['pageData']['Job Posting Information']['Job Summary']}\\n\\\n",
    "Job Responsibilities: {job['pageData']['Job Posting Information']['Job Responsibilities']}\\n\\\n",
    "Required Skills: {job['pageData']['Job Posting Information']['Required Skills']}\",\n",
    "            \"html.parser\"\n",
    "        ).get_text()\n",
    "    )\n",
    "    for job in jobs\n",
    "]"
   ]
  },
  {
   "cell_type": "code",
   "execution_count": 93,
   "metadata": {},
   "outputs": [
    {
     "name": "stderr",
     "output_type": "stream",
     "text": [
      "C:\\Users\\parth\\.cache\\huggingface\\modules\\transformers_modules\\nomic-ai\\nomic-bert-2048\\4bb68f63016e88e53e48df904c6ab4e6f718e198\\modeling_hf_nomic_bert.py:98: FutureWarning: You are using `torch.load` with `weights_only=False` (the current default value), which uses the default pickle module implicitly. It is possible to construct malicious pickle data which will execute arbitrary code during unpickling (See https://github.com/pytorch/pytorch/blob/main/SECURITY.md#untrusted-models for more details). In a future release, the default value for `weights_only` will be flipped to `True`. This limits the functions that could be executed during unpickling. Arbitrary objects will no longer be allowed to be loaded via this mode unless they are explicitly allowlisted by the user via `torch.serialization.add_safe_globals`. We recommend you start setting `weights_only=True` for any use case where you don't have full control of the loaded file. Please open an issue on GitHub for any issues related to this experimental feature.\n",
      "  state_dict = loader(resolved_archive_file)\n",
      "<All keys matched successfully>\n"
     ]
    }
   ],
   "source": [
    "model = SentenceTransformer('nomic-ai/nomic-embed-text-v1', trust_remote_code=True).to(device)"
   ]
  },
  {
   "cell_type": "code",
   "execution_count": null,
   "metadata": {},
   "outputs": [],
   "source": []
  }
 ],
 "metadata": {
  "kernelspec": {
   "display_name": "wwrecommender",
   "language": "python",
   "name": "python3"
  },
  "language_info": {
   "codemirror_mode": {
    "name": "ipython",
    "version": 3
   },
   "file_extension": ".py",
   "mimetype": "text/x-python",
   "name": "python",
   "nbconvert_exporter": "python",
   "pygments_lexer": "ipython3",
   "version": "3.10.14"
  }
 },
 "nbformat": 4,
 "nbformat_minor": 2
}
